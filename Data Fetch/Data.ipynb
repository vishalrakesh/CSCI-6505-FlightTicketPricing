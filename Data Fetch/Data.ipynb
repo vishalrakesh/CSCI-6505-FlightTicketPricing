{
 "cells": [
  {
   "cell_type": "code",
   "execution_count": 11,
   "id": "18b30732",
   "metadata": {},
   "outputs": [],
   "source": [
    "import http.client\n",
    "import json\n",
    "\n",
    "conn = http.client.HTTPSConnection(\"travelpayouts-travelpayouts-flight-data-v1.p.rapidapi.com\")\n",
    "\n",
    "headers = {\n",
    "    'x-access-token': \"57757cf7e83ce4a681e5f48a0af3164a\",\n",
    "    'x-rapidapi-host': \"travelpayouts-travelpayouts-flight-data-v1.p.rapidapi.com\",\n",
    "    'x-rapidapi-key': \"7f66339d1bmsh138b0c0df669f62p1bcc15jsn02d3c1455741\"\n",
    "    }\n",
    "\n",
    "conn.request(\"GET\", \"/v2/prices/latest?destination=LED&origin=MOW&period_type=year&one_way=%20&show_to_affiliates=true&trip_class=0&currency=CAD&page=4&limit=1000\", headers=headers)\n",
    "res = conn.getresponse()\n",
    "data = res.read()\n",
    "\n",
    "my_json = data.decode('utf8').replace(\"'\", '\"')\n",
    "data = json.loads(my_json)\n",
    "\n",
    "with open('data.json', 'a+') as outfile:\n",
    "    json.dump(data, outfile)\n",
    "    \n",
    "\n",
    "\n",
    "#print(data.decode(\"utf-8\"))"
   ]
  },
  {
   "cell_type": "code",
   "execution_count": null,
   "id": "352a4639",
   "metadata": {},
   "outputs": [],
   "source": [
    "json.dump(data,indent = 4, sort_keys = True)"
   ]
  },
  {
   "cell_type": "code",
   "execution_count": null,
   "id": "d6b0ca97",
   "metadata": {},
   "outputs": [],
   "source": []
  }
 ],
 "metadata": {
  "kernelspec": {
   "display_name": "Python 3",
   "language": "python",
   "name": "python3"
  },
  "language_info": {
   "codemirror_mode": {
    "name": "ipython",
    "version": 3
   },
   "file_extension": ".py",
   "mimetype": "text/x-python",
   "name": "python",
   "nbconvert_exporter": "python",
   "pygments_lexer": "ipython3",
   "version": "3.7.11"
  }
 },
 "nbformat": 4,
 "nbformat_minor": 5
}
