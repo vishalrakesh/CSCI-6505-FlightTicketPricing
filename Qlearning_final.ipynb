{
 "cells": [
  {
   "cell_type": "markdown",
   "metadata": {
    "id": "v1jVA80pRVTs"
   },
   "source": [
    "# Importing the required libraries and then reading the datafile"
   ]
  },
  {
   "cell_type": "code",
   "execution_count": null,
   "metadata": {
    "execution": {
     "iopub.execute_input": "2021-12-05T19:26:34.758616Z",
     "iopub.status.busy": "2021-12-05T19:26:34.758246Z",
     "iopub.status.idle": "2021-12-05T19:26:35.241298Z",
     "shell.execute_reply": "2021-12-05T19:26:35.240797Z",
     "shell.execute_reply.started": "2021-12-05T19:26:34.758540Z"
    },
    "id": "lGkHukq8pce_"
   },
   "outputs": [],
   "source": [
    "import pandas as pd\n",
    "import matplotlib.pyplot as plt\n",
    "%matplotlib inline\n",
    "df=pd.read_csv(\"latest.csv\")"
   ]
  },
  {
   "cell_type": "markdown",
   "metadata": {
    "id": "nY31RGRsRfZa"
   },
   "source": [
    "Droppping redundant columns show_to_affiliates as it was True, trip_class was always 0 and actual was always True irrespective of the state"
   ]
  },
  {
   "cell_type": "code",
   "execution_count": null,
   "metadata": {
    "execution": {
     "iopub.execute_input": "2021-12-05T19:26:35.242645Z",
     "iopub.status.busy": "2021-12-05T19:26:35.242233Z",
     "iopub.status.idle": "2021-12-05T19:26:35.247221Z",
     "shell.execute_reply": "2021-12-05T19:26:35.246646Z",
     "shell.execute_reply.started": "2021-12-05T19:26:35.242620Z"
    },
    "id": "LX63CMglpggn"
   },
   "outputs": [],
   "source": [
    "df=df.drop('show_to_affiliates',axis=1)"
   ]
  },
  {
   "cell_type": "code",
   "execution_count": null,
   "metadata": {
    "execution": {
     "iopub.execute_input": "2021-12-05T19:26:35.568347Z",
     "iopub.status.busy": "2021-12-05T19:26:35.568060Z",
     "iopub.status.idle": "2021-12-05T19:26:35.574147Z",
     "shell.execute_reply": "2021-12-05T19:26:35.573474Z",
     "shell.execute_reply.started": "2021-12-05T19:26:35.568323Z"
    },
    "id": "qhuLJ8cKrEQs"
   },
   "outputs": [],
   "source": [
    "df=df.drop('trip_class',axis=1)"
   ]
  },
  {
   "cell_type": "code",
   "execution_count": null,
   "metadata": {
    "execution": {
     "iopub.execute_input": "2021-12-05T19:26:35.842259Z",
     "iopub.status.busy": "2021-12-05T19:26:35.841969Z",
     "iopub.status.idle": "2021-12-05T19:26:35.847266Z",
     "shell.execute_reply": "2021-12-05T19:26:35.846655Z",
     "shell.execute_reply.started": "2021-12-05T19:26:35.842236Z"
    },
    "id": "U7MY9eE-rH8e"
   },
   "outputs": [],
   "source": [
    "df=df.drop('actual',axis=1)"
   ]
  },
  {
   "cell_type": "code",
   "execution_count": null,
   "metadata": {
    "colab": {
     "base_uri": "https://localhost:8080/",
     "height": 206
    },
    "execution": {
     "iopub.execute_input": "2021-12-05T19:26:36.180019Z",
     "iopub.status.busy": "2021-12-05T19:26:36.179761Z",
     "iopub.status.idle": "2021-12-05T19:26:36.226948Z",
     "shell.execute_reply": "2021-12-05T19:26:36.226518Z",
     "shell.execute_reply.started": "2021-12-05T19:26:36.179998Z"
    },
    "id": "3ORGcbnirKn5",
    "outputId": "bbd8339a-5176-4f06-8235-0d25eed250f1"
   },
   "outputs": [
    {
     "data": {
      "text/html": [
       "<div>\n",
       "<style scoped>\n",
       "    .dataframe tbody tr th:only-of-type {\n",
       "        vertical-align: middle;\n",
       "    }\n",
       "\n",
       "    .dataframe tbody tr th {\n",
       "        vertical-align: top;\n",
       "    }\n",
       "\n",
       "    .dataframe thead th {\n",
       "        text-align: right;\n",
       "    }\n",
       "</style>\n",
       "<table border=\"1\" class=\"dataframe\">\n",
       "  <thead>\n",
       "    <tr style=\"text-align: right;\">\n",
       "      <th></th>\n",
       "      <th>value</th>\n",
       "      <th>origin</th>\n",
       "      <th>destination</th>\n",
       "      <th>gate</th>\n",
       "      <th>depart_date</th>\n",
       "      <th>return_date</th>\n",
       "      <th>number_of_changes</th>\n",
       "      <th>found_at</th>\n",
       "      <th>duration</th>\n",
       "      <th>distance</th>\n",
       "    </tr>\n",
       "  </thead>\n",
       "  <tbody>\n",
       "    <tr>\n",
       "      <th>0</th>\n",
       "      <td>173</td>\n",
       "      <td>YVR</td>\n",
       "      <td>YTO</td>\n",
       "      <td>Mytrip.com</td>\n",
       "      <td>2022-08-08</td>\n",
       "      <td>2022-08-15</td>\n",
       "      <td>0</td>\n",
       "      <td>2021-11-27T01:56:03</td>\n",
       "      <td>570</td>\n",
       "      <td>3346</td>\n",
       "    </tr>\n",
       "    <tr>\n",
       "      <th>1</th>\n",
       "      <td>184</td>\n",
       "      <td>YVR</td>\n",
       "      <td>YTO</td>\n",
       "      <td>Mytrip.com</td>\n",
       "      <td>2022-03-09</td>\n",
       "      <td>2022-03-17</td>\n",
       "      <td>0</td>\n",
       "      <td>2021-11-25T03:41:11</td>\n",
       "      <td>590</td>\n",
       "      <td>3346</td>\n",
       "    </tr>\n",
       "    <tr>\n",
       "      <th>2</th>\n",
       "      <td>188</td>\n",
       "      <td>YVR</td>\n",
       "      <td>YTO</td>\n",
       "      <td>Mytrip.com</td>\n",
       "      <td>2022-02-01</td>\n",
       "      <td>2022-02-04</td>\n",
       "      <td>0</td>\n",
       "      <td>2021-11-23T16:20:14</td>\n",
       "      <td>590</td>\n",
       "      <td>3346</td>\n",
       "    </tr>\n",
       "    <tr>\n",
       "      <th>3</th>\n",
       "      <td>192</td>\n",
       "      <td>YVR</td>\n",
       "      <td>YTO</td>\n",
       "      <td>Mytrip.com</td>\n",
       "      <td>2022-01-29</td>\n",
       "      <td>2022-01-31</td>\n",
       "      <td>0</td>\n",
       "      <td>2021-11-27T08:04:57</td>\n",
       "      <td>590</td>\n",
       "      <td>3346</td>\n",
       "    </tr>\n",
       "    <tr>\n",
       "      <th>4</th>\n",
       "      <td>194</td>\n",
       "      <td>YVR</td>\n",
       "      <td>YTO</td>\n",
       "      <td>Gotogate</td>\n",
       "      <td>2022-01-28</td>\n",
       "      <td>2022-01-31</td>\n",
       "      <td>0</td>\n",
       "      <td>2021-11-27T08:16:47</td>\n",
       "      <td>591</td>\n",
       "      <td>3346</td>\n",
       "    </tr>\n",
       "  </tbody>\n",
       "</table>\n",
       "</div>"
      ],
      "text/plain": [
       "   value origin destination        gate depart_date return_date  \\\n",
       "0    173    YVR         YTO  Mytrip.com  2022-08-08  2022-08-15   \n",
       "1    184    YVR         YTO  Mytrip.com  2022-03-09  2022-03-17   \n",
       "2    188    YVR         YTO  Mytrip.com  2022-02-01  2022-02-04   \n",
       "3    192    YVR         YTO  Mytrip.com  2022-01-29  2022-01-31   \n",
       "4    194    YVR         YTO    Gotogate  2022-01-28  2022-01-31   \n",
       "\n",
       "   number_of_changes             found_at  duration  distance  \n",
       "0                  0  2021-11-27T01:56:03       570      3346  \n",
       "1                  0  2021-11-25T03:41:11       590      3346  \n",
       "2                  0  2021-11-23T16:20:14       590      3346  \n",
       "3                  0  2021-11-27T08:04:57       590      3346  \n",
       "4                  0  2021-11-27T08:16:47       591      3346  "
      ]
     },
     "execution_count": 5,
     "metadata": {},
     "output_type": "execute_result"
    }
   ],
   "source": [
    "df.head()"
   ]
  },
  {
   "cell_type": "markdown",
   "metadata": {
    "id": "V9IZCt5dTE6P"
   },
   "source": [
    "Dropping duplicates"
   ]
  },
  {
   "cell_type": "code",
   "execution_count": null,
   "metadata": {
    "execution": {
     "iopub.execute_input": "2021-12-05T19:26:36.477379Z",
     "iopub.status.busy": "2021-12-05T19:26:36.477089Z",
     "iopub.status.idle": "2021-12-05T19:26:36.495690Z",
     "shell.execute_reply": "2021-12-05T19:26:36.495199Z",
     "shell.execute_reply.started": "2021-12-05T19:26:36.477357Z"
    },
    "id": "jie1NYsnrLk-"
   },
   "outputs": [],
   "source": [
    "df=df.drop_duplicates()"
   ]
  },
  {
   "cell_type": "markdown",
   "metadata": {
    "id": "QdiNMaRfTIFb"
   },
   "source": [
    "Converting into datetime format"
   ]
  },
  {
   "cell_type": "code",
   "execution_count": null,
   "metadata": {
    "execution": {
     "iopub.execute_input": "2021-12-05T19:26:36.833386Z",
     "iopub.status.busy": "2021-12-05T19:26:36.833098Z",
     "iopub.status.idle": "2021-12-05T19:26:36.840577Z",
     "shell.execute_reply": "2021-12-05T19:26:36.840073Z",
     "shell.execute_reply.started": "2021-12-05T19:26:36.833364Z"
    },
    "id": "o8EV-agRrP77"
   },
   "outputs": [],
   "source": [
    "df['found_at']=df['found_at'].apply(lambda x:x[:10])"
   ]
  },
  {
   "cell_type": "code",
   "execution_count": null,
   "metadata": {
    "execution": {
     "iopub.execute_input": "2021-12-05T19:26:37.175357Z",
     "iopub.status.busy": "2021-12-05T19:26:37.175068Z",
     "iopub.status.idle": "2021-12-05T19:26:37.182455Z",
     "shell.execute_reply": "2021-12-05T19:26:37.181975Z",
     "shell.execute_reply.started": "2021-12-05T19:26:37.175335Z"
    },
    "id": "4WS3kKqYrUAM"
   },
   "outputs": [],
   "source": [
    "df['found_at']=pd.to_datetime(df['found_at'])"
   ]
  },
  {
   "cell_type": "markdown",
   "metadata": {
    "id": "tHgmLBAhTMtR"
   },
   "source": [
    "Getting the difference in days and creating a column days to departure which is a difference between depart_Date and found_at date"
   ]
  },
  {
   "cell_type": "code",
   "execution_count": null,
   "metadata": {
    "execution": {
     "iopub.execute_input": "2021-12-05T19:26:37.443366Z",
     "iopub.status.busy": "2021-12-05T19:26:37.443074Z",
     "iopub.status.idle": "2021-12-05T19:26:37.459575Z",
     "shell.execute_reply": "2021-12-05T19:26:37.459130Z",
     "shell.execute_reply.started": "2021-12-05T19:26:37.443344Z"
    },
    "id": "h9esyCtbRJOK"
   },
   "outputs": [],
   "source": [
    "df['depart_date']=pd.to_datetime(df['depart_date'])\n",
    "df['depart_date']=pd.to_datetime(df['depart_date'],format='%Y%m%d', errors='coerce')\n",
    "df['days_to_departure']=df['depart_date']-df['found_at']\n",
    "df['days_to_departure']=df['days_to_departure'].dt.days"
   ]
  },
  {
   "cell_type": "code",
   "execution_count": null,
   "metadata": {
    "colab": {
     "base_uri": "https://localhost:8080/",
     "height": 206
    },
    "execution": {
     "iopub.execute_input": "2021-12-05T19:26:37.727361Z",
     "iopub.status.busy": "2021-12-05T19:26:37.727072Z",
     "iopub.status.idle": "2021-12-05T19:26:37.737458Z",
     "shell.execute_reply": "2021-12-05T19:26:37.736999Z",
     "shell.execute_reply.started": "2021-12-05T19:26:37.727338Z"
    },
    "id": "SFa3ZgltrWD2",
    "outputId": "34f73012-55ec-4884-a67f-e5b49935e3a1"
   },
   "outputs": [
    {
     "data": {
      "text/html": [
       "<div>\n",
       "<style scoped>\n",
       "    .dataframe tbody tr th:only-of-type {\n",
       "        vertical-align: middle;\n",
       "    }\n",
       "\n",
       "    .dataframe tbody tr th {\n",
       "        vertical-align: top;\n",
       "    }\n",
       "\n",
       "    .dataframe thead th {\n",
       "        text-align: right;\n",
       "    }\n",
       "</style>\n",
       "<table border=\"1\" class=\"dataframe\">\n",
       "  <thead>\n",
       "    <tr style=\"text-align: right;\">\n",
       "      <th></th>\n",
       "      <th>value</th>\n",
       "      <th>origin</th>\n",
       "      <th>destination</th>\n",
       "      <th>gate</th>\n",
       "      <th>depart_date</th>\n",
       "      <th>return_date</th>\n",
       "      <th>number_of_changes</th>\n",
       "      <th>found_at</th>\n",
       "      <th>duration</th>\n",
       "      <th>distance</th>\n",
       "      <th>days_to_departure</th>\n",
       "    </tr>\n",
       "  </thead>\n",
       "  <tbody>\n",
       "    <tr>\n",
       "      <th>0</th>\n",
       "      <td>173</td>\n",
       "      <td>YVR</td>\n",
       "      <td>YTO</td>\n",
       "      <td>Mytrip.com</td>\n",
       "      <td>2022-08-08</td>\n",
       "      <td>2022-08-15</td>\n",
       "      <td>0</td>\n",
       "      <td>2021-11-27</td>\n",
       "      <td>570</td>\n",
       "      <td>3346</td>\n",
       "      <td>254</td>\n",
       "    </tr>\n",
       "    <tr>\n",
       "      <th>1</th>\n",
       "      <td>184</td>\n",
       "      <td>YVR</td>\n",
       "      <td>YTO</td>\n",
       "      <td>Mytrip.com</td>\n",
       "      <td>2022-03-09</td>\n",
       "      <td>2022-03-17</td>\n",
       "      <td>0</td>\n",
       "      <td>2021-11-25</td>\n",
       "      <td>590</td>\n",
       "      <td>3346</td>\n",
       "      <td>104</td>\n",
       "    </tr>\n",
       "    <tr>\n",
       "      <th>2</th>\n",
       "      <td>188</td>\n",
       "      <td>YVR</td>\n",
       "      <td>YTO</td>\n",
       "      <td>Mytrip.com</td>\n",
       "      <td>2022-02-01</td>\n",
       "      <td>2022-02-04</td>\n",
       "      <td>0</td>\n",
       "      <td>2021-11-23</td>\n",
       "      <td>590</td>\n",
       "      <td>3346</td>\n",
       "      <td>70</td>\n",
       "    </tr>\n",
       "    <tr>\n",
       "      <th>3</th>\n",
       "      <td>192</td>\n",
       "      <td>YVR</td>\n",
       "      <td>YTO</td>\n",
       "      <td>Mytrip.com</td>\n",
       "      <td>2022-01-29</td>\n",
       "      <td>2022-01-31</td>\n",
       "      <td>0</td>\n",
       "      <td>2021-11-27</td>\n",
       "      <td>590</td>\n",
       "      <td>3346</td>\n",
       "      <td>63</td>\n",
       "    </tr>\n",
       "    <tr>\n",
       "      <th>4</th>\n",
       "      <td>194</td>\n",
       "      <td>YVR</td>\n",
       "      <td>YTO</td>\n",
       "      <td>Gotogate</td>\n",
       "      <td>2022-01-28</td>\n",
       "      <td>2022-01-31</td>\n",
       "      <td>0</td>\n",
       "      <td>2021-11-27</td>\n",
       "      <td>591</td>\n",
       "      <td>3346</td>\n",
       "      <td>62</td>\n",
       "    </tr>\n",
       "  </tbody>\n",
       "</table>\n",
       "</div>"
      ],
      "text/plain": [
       "   value origin destination        gate depart_date return_date  \\\n",
       "0    173    YVR         YTO  Mytrip.com  2022-08-08  2022-08-15   \n",
       "1    184    YVR         YTO  Mytrip.com  2022-03-09  2022-03-17   \n",
       "2    188    YVR         YTO  Mytrip.com  2022-02-01  2022-02-04   \n",
       "3    192    YVR         YTO  Mytrip.com  2022-01-29  2022-01-31   \n",
       "4    194    YVR         YTO    Gotogate  2022-01-28  2022-01-31   \n",
       "\n",
       "   number_of_changes   found_at  duration  distance  days_to_departure  \n",
       "0                  0 2021-11-27       570      3346                254  \n",
       "1                  0 2021-11-25       590      3346                104  \n",
       "2                  0 2021-11-23       590      3346                 70  \n",
       "3                  0 2021-11-27       590      3346                 63  \n",
       "4                  0 2021-11-27       591      3346                 62  "
      ]
     },
     "execution_count": 10,
     "metadata": {},
     "output_type": "execute_result"
    }
   ],
   "source": [
    "df.head()"
   ]
  },
  {
   "cell_type": "code",
   "execution_count": null,
   "metadata": {
    "colab": {
     "base_uri": "https://localhost:8080/",
     "height": 206
    },
    "execution": {
     "iopub.execute_input": "2021-12-05T19:26:38.326279Z",
     "iopub.status.busy": "2021-12-05T19:26:38.325992Z",
     "iopub.status.idle": "2021-12-05T19:26:38.336385Z",
     "shell.execute_reply": "2021-12-05T19:26:38.335904Z",
     "shell.execute_reply.started": "2021-12-05T19:26:38.326257Z"
    },
    "id": "1RERcuFauOgX",
    "outputId": "7ba09e79-64ae-46f5-be88-bcdfe4b8119a"
   },
   "outputs": [
    {
     "data": {
      "text/html": [
       "<div>\n",
       "<style scoped>\n",
       "    .dataframe tbody tr th:only-of-type {\n",
       "        vertical-align: middle;\n",
       "    }\n",
       "\n",
       "    .dataframe tbody tr th {\n",
       "        vertical-align: top;\n",
       "    }\n",
       "\n",
       "    .dataframe thead th {\n",
       "        text-align: right;\n",
       "    }\n",
       "</style>\n",
       "<table border=\"1\" class=\"dataframe\">\n",
       "  <thead>\n",
       "    <tr style=\"text-align: right;\">\n",
       "      <th></th>\n",
       "      <th>value</th>\n",
       "      <th>origin</th>\n",
       "      <th>destination</th>\n",
       "      <th>gate</th>\n",
       "      <th>depart_date</th>\n",
       "      <th>return_date</th>\n",
       "      <th>number_of_changes</th>\n",
       "      <th>found_at</th>\n",
       "      <th>duration</th>\n",
       "      <th>distance</th>\n",
       "      <th>days_to_departure</th>\n",
       "    </tr>\n",
       "  </thead>\n",
       "  <tbody>\n",
       "    <tr>\n",
       "      <th>0</th>\n",
       "      <td>173</td>\n",
       "      <td>YVR</td>\n",
       "      <td>YTO</td>\n",
       "      <td>Mytrip.com</td>\n",
       "      <td>2022-08-08</td>\n",
       "      <td>2022-08-15</td>\n",
       "      <td>0</td>\n",
       "      <td>2021-11-27</td>\n",
       "      <td>570</td>\n",
       "      <td>3346</td>\n",
       "      <td>254</td>\n",
       "    </tr>\n",
       "    <tr>\n",
       "      <th>1</th>\n",
       "      <td>184</td>\n",
       "      <td>YVR</td>\n",
       "      <td>YTO</td>\n",
       "      <td>Mytrip.com</td>\n",
       "      <td>2022-03-09</td>\n",
       "      <td>2022-03-17</td>\n",
       "      <td>0</td>\n",
       "      <td>2021-11-25</td>\n",
       "      <td>590</td>\n",
       "      <td>3346</td>\n",
       "      <td>104</td>\n",
       "    </tr>\n",
       "    <tr>\n",
       "      <th>2</th>\n",
       "      <td>188</td>\n",
       "      <td>YVR</td>\n",
       "      <td>YTO</td>\n",
       "      <td>Mytrip.com</td>\n",
       "      <td>2022-02-01</td>\n",
       "      <td>2022-02-04</td>\n",
       "      <td>0</td>\n",
       "      <td>2021-11-23</td>\n",
       "      <td>590</td>\n",
       "      <td>3346</td>\n",
       "      <td>70</td>\n",
       "    </tr>\n",
       "    <tr>\n",
       "      <th>3</th>\n",
       "      <td>192</td>\n",
       "      <td>YVR</td>\n",
       "      <td>YTO</td>\n",
       "      <td>Mytrip.com</td>\n",
       "      <td>2022-01-29</td>\n",
       "      <td>2022-01-31</td>\n",
       "      <td>0</td>\n",
       "      <td>2021-11-27</td>\n",
       "      <td>590</td>\n",
       "      <td>3346</td>\n",
       "      <td>63</td>\n",
       "    </tr>\n",
       "    <tr>\n",
       "      <th>4</th>\n",
       "      <td>194</td>\n",
       "      <td>YVR</td>\n",
       "      <td>YTO</td>\n",
       "      <td>Gotogate</td>\n",
       "      <td>2022-01-28</td>\n",
       "      <td>2022-01-31</td>\n",
       "      <td>0</td>\n",
       "      <td>2021-11-27</td>\n",
       "      <td>591</td>\n",
       "      <td>3346</td>\n",
       "      <td>62</td>\n",
       "    </tr>\n",
       "  </tbody>\n",
       "</table>\n",
       "</div>"
      ],
      "text/plain": [
       "   value origin destination        gate depart_date return_date  \\\n",
       "0    173    YVR         YTO  Mytrip.com  2022-08-08  2022-08-15   \n",
       "1    184    YVR         YTO  Mytrip.com  2022-03-09  2022-03-17   \n",
       "2    188    YVR         YTO  Mytrip.com  2022-02-01  2022-02-04   \n",
       "3    192    YVR         YTO  Mytrip.com  2022-01-29  2022-01-31   \n",
       "4    194    YVR         YTO    Gotogate  2022-01-28  2022-01-31   \n",
       "\n",
       "   number_of_changes   found_at  duration  distance  days_to_departure  \n",
       "0                  0 2021-11-27       570      3346                254  \n",
       "1                  0 2021-11-25       590      3346                104  \n",
       "2                  0 2021-11-23       590      3346                 70  \n",
       "3                  0 2021-11-27       590      3346                 63  \n",
       "4                  0 2021-11-27       591      3346                 62  "
      ]
     },
     "execution_count": 12,
     "metadata": {},
     "output_type": "execute_result"
    }
   ],
   "source": [
    "df.head()"
   ]
  },
  {
   "cell_type": "markdown",
   "metadata": {
    "id": "G2ccQ--TTicl"
   },
   "source": [
    "Selecting the NVC-->LAS route for our problem as this route has the maximum number of flights"
   ]
  },
  {
   "cell_type": "code",
   "execution_count": null,
   "metadata": {
    "execution": {
     "iopub.execute_input": "2021-12-05T19:26:38.921361Z",
     "iopub.status.busy": "2021-12-05T19:26:38.921064Z",
     "iopub.status.idle": "2021-12-05T19:26:38.926661Z",
     "shell.execute_reply": "2021-12-05T19:26:38.926174Z",
     "shell.execute_reply.started": "2021-12-05T19:26:38.921340Z"
    },
    "id": "qTFIUycQxuWC"
   },
   "outputs": [],
   "source": [
    "df=df[df['origin']=='NYC']"
   ]
  },
  {
   "cell_type": "code",
   "execution_count": null,
   "metadata": {
    "colab": {
     "base_uri": "https://localhost:8080/",
     "height": 206
    },
    "execution": {
     "iopub.execute_input": "2021-12-05T19:26:39.283228Z",
     "iopub.status.busy": "2021-12-05T19:26:39.282953Z",
     "iopub.status.idle": "2021-12-05T19:26:39.293183Z",
     "shell.execute_reply": "2021-12-05T19:26:39.292768Z",
     "shell.execute_reply.started": "2021-12-05T19:26:39.283207Z"
    },
    "id": "B_BXUUJsxx8W",
    "outputId": "bbc164ab-0a18-431f-d332-d67b06d28a39"
   },
   "outputs": [
    {
     "data": {
      "text/html": [
       "<div>\n",
       "<style scoped>\n",
       "    .dataframe tbody tr th:only-of-type {\n",
       "        vertical-align: middle;\n",
       "    }\n",
       "\n",
       "    .dataframe tbody tr th {\n",
       "        vertical-align: top;\n",
       "    }\n",
       "\n",
       "    .dataframe thead th {\n",
       "        text-align: right;\n",
       "    }\n",
       "</style>\n",
       "<table border=\"1\" class=\"dataframe\">\n",
       "  <thead>\n",
       "    <tr style=\"text-align: right;\">\n",
       "      <th></th>\n",
       "      <th>value</th>\n",
       "      <th>origin</th>\n",
       "      <th>destination</th>\n",
       "      <th>gate</th>\n",
       "      <th>depart_date</th>\n",
       "      <th>return_date</th>\n",
       "      <th>number_of_changes</th>\n",
       "      <th>found_at</th>\n",
       "      <th>duration</th>\n",
       "      <th>distance</th>\n",
       "      <th>days_to_departure</th>\n",
       "    </tr>\n",
       "  </thead>\n",
       "  <tbody>\n",
       "    <tr>\n",
       "      <th>219</th>\n",
       "      <td>277</td>\n",
       "      <td>NYC</td>\n",
       "      <td>YTO</td>\n",
       "      <td>Kiwi.com</td>\n",
       "      <td>2021-12-13</td>\n",
       "      <td>2021-12-14</td>\n",
       "      <td>1</td>\n",
       "      <td>2021-11-27</td>\n",
       "      <td>699</td>\n",
       "      <td>586</td>\n",
       "      <td>16</td>\n",
       "    </tr>\n",
       "    <tr>\n",
       "      <th>220</th>\n",
       "      <td>280</td>\n",
       "      <td>NYC</td>\n",
       "      <td>YTO</td>\n",
       "      <td>MyHolidays</td>\n",
       "      <td>2022-02-05</td>\n",
       "      <td>2022-02-08</td>\n",
       "      <td>1</td>\n",
       "      <td>2021-11-28</td>\n",
       "      <td>1116</td>\n",
       "      <td>586</td>\n",
       "      <td>69</td>\n",
       "    </tr>\n",
       "    <tr>\n",
       "      <th>221</th>\n",
       "      <td>303</td>\n",
       "      <td>NYC</td>\n",
       "      <td>YTO</td>\n",
       "      <td>KupiBilet.ru</td>\n",
       "      <td>2021-12-11</td>\n",
       "      <td>2021-12-12</td>\n",
       "      <td>1</td>\n",
       "      <td>2021-11-27</td>\n",
       "      <td>316</td>\n",
       "      <td>586</td>\n",
       "      <td>14</td>\n",
       "    </tr>\n",
       "    <tr>\n",
       "      <th>222</th>\n",
       "      <td>322</td>\n",
       "      <td>NYC</td>\n",
       "      <td>YTO</td>\n",
       "      <td>Trip.com</td>\n",
       "      <td>2021-11-27</td>\n",
       "      <td>2021-12-04</td>\n",
       "      <td>1</td>\n",
       "      <td>2021-11-22</td>\n",
       "      <td>795</td>\n",
       "      <td>551</td>\n",
       "      <td>5</td>\n",
       "    </tr>\n",
       "    <tr>\n",
       "      <th>223</th>\n",
       "      <td>327</td>\n",
       "      <td>NYC</td>\n",
       "      <td>YTO</td>\n",
       "      <td>Trip.com</td>\n",
       "      <td>2021-12-04</td>\n",
       "      <td>2021-12-11</td>\n",
       "      <td>1</td>\n",
       "      <td>2021-11-22</td>\n",
       "      <td>498</td>\n",
       "      <td>551</td>\n",
       "      <td>12</td>\n",
       "    </tr>\n",
       "  </tbody>\n",
       "</table>\n",
       "</div>"
      ],
      "text/plain": [
       "     value origin destination          gate depart_date return_date  \\\n",
       "219    277    NYC         YTO      Kiwi.com  2021-12-13  2021-12-14   \n",
       "220    280    NYC         YTO    MyHolidays  2022-02-05  2022-02-08   \n",
       "221    303    NYC         YTO  KupiBilet.ru  2021-12-11  2021-12-12   \n",
       "222    322    NYC         YTO      Trip.com  2021-11-27  2021-12-04   \n",
       "223    327    NYC         YTO      Trip.com  2021-12-04  2021-12-11   \n",
       "\n",
       "     number_of_changes   found_at  duration  distance  days_to_departure  \n",
       "219                  1 2021-11-27       699       586                 16  \n",
       "220                  1 2021-11-28      1116       586                 69  \n",
       "221                  1 2021-11-27       316       586                 14  \n",
       "222                  1 2021-11-22       795       551                  5  \n",
       "223                  1 2021-11-22       498       551                 12  "
      ]
     },
     "execution_count": 15,
     "metadata": {},
     "output_type": "execute_result"
    }
   ],
   "source": [
    "df.head()"
   ]
  },
  {
   "cell_type": "code",
   "execution_count": null,
   "metadata": {
    "execution": {
     "iopub.execute_input": "2021-12-05T19:26:39.631328Z",
     "iopub.status.busy": "2021-12-05T19:26:39.631046Z",
     "iopub.status.idle": "2021-12-05T19:26:39.635424Z",
     "shell.execute_reply": "2021-12-05T19:26:39.634970Z",
     "shell.execute_reply.started": "2021-12-05T19:26:39.631306Z"
    },
    "id": "ckIhJU_xxzJb"
   },
   "outputs": [],
   "source": [
    "df=df[df['destination']=='LAS']"
   ]
  },
  {
   "cell_type": "code",
   "execution_count": null,
   "metadata": {
    "colab": {
     "base_uri": "https://localhost:8080/",
     "height": 206
    },
    "execution": {
     "iopub.execute_input": "2021-12-05T19:26:39.990148Z",
     "iopub.status.busy": "2021-12-05T19:26:39.989874Z",
     "iopub.status.idle": "2021-12-05T19:26:40.000014Z",
     "shell.execute_reply": "2021-12-05T19:26:39.999601Z",
     "shell.execute_reply.started": "2021-12-05T19:26:39.990126Z"
    },
    "id": "CpEWifbNyGDB",
    "outputId": "76f98402-e55c-4a93-8854-c24a2db5f066"
   },
   "outputs": [
    {
     "data": {
      "text/html": [
       "<div>\n",
       "<style scoped>\n",
       "    .dataframe tbody tr th:only-of-type {\n",
       "        vertical-align: middle;\n",
       "    }\n",
       "\n",
       "    .dataframe tbody tr th {\n",
       "        vertical-align: top;\n",
       "    }\n",
       "\n",
       "    .dataframe thead th {\n",
       "        text-align: right;\n",
       "    }\n",
       "</style>\n",
       "<table border=\"1\" class=\"dataframe\">\n",
       "  <thead>\n",
       "    <tr style=\"text-align: right;\">\n",
       "      <th></th>\n",
       "      <th>value</th>\n",
       "      <th>origin</th>\n",
       "      <th>destination</th>\n",
       "      <th>gate</th>\n",
       "      <th>depart_date</th>\n",
       "      <th>return_date</th>\n",
       "      <th>number_of_changes</th>\n",
       "      <th>found_at</th>\n",
       "      <th>duration</th>\n",
       "      <th>distance</th>\n",
       "      <th>days_to_departure</th>\n",
       "    </tr>\n",
       "  </thead>\n",
       "  <tbody>\n",
       "    <tr>\n",
       "      <th>3243</th>\n",
       "      <td>188</td>\n",
       "      <td>NYC</td>\n",
       "      <td>LAS</td>\n",
       "      <td>Wingie</td>\n",
       "      <td>2022-01-14</td>\n",
       "      <td>2022-01-27</td>\n",
       "      <td>1</td>\n",
       "      <td>2021-11-23</td>\n",
       "      <td>896</td>\n",
       "      <td>3607</td>\n",
       "      <td>52</td>\n",
       "    </tr>\n",
       "    <tr>\n",
       "      <th>3244</th>\n",
       "      <td>203</td>\n",
       "      <td>NYC</td>\n",
       "      <td>LAS</td>\n",
       "      <td>Trip.com</td>\n",
       "      <td>2022-01-07</td>\n",
       "      <td>2022-01-12</td>\n",
       "      <td>0</td>\n",
       "      <td>2021-11-27</td>\n",
       "      <td>646</td>\n",
       "      <td>3607</td>\n",
       "      <td>41</td>\n",
       "    </tr>\n",
       "    <tr>\n",
       "      <th>3245</th>\n",
       "      <td>206</td>\n",
       "      <td>NYC</td>\n",
       "      <td>LAS</td>\n",
       "      <td>Kiwi.com</td>\n",
       "      <td>2021-12-03</td>\n",
       "      <td>2021-12-04</td>\n",
       "      <td>1</td>\n",
       "      <td>2021-11-24</td>\n",
       "      <td>1283</td>\n",
       "      <td>3607</td>\n",
       "      <td>9</td>\n",
       "    </tr>\n",
       "    <tr>\n",
       "      <th>3246</th>\n",
       "      <td>215</td>\n",
       "      <td>NYC</td>\n",
       "      <td>LAS</td>\n",
       "      <td>Aviakassa</td>\n",
       "      <td>2022-01-28</td>\n",
       "      <td>2022-01-31</td>\n",
       "      <td>2</td>\n",
       "      <td>2021-11-26</td>\n",
       "      <td>1821</td>\n",
       "      <td>3607</td>\n",
       "      <td>63</td>\n",
       "    </tr>\n",
       "    <tr>\n",
       "      <th>3247</th>\n",
       "      <td>239</td>\n",
       "      <td>NYC</td>\n",
       "      <td>LAS</td>\n",
       "      <td>Kiwi.com</td>\n",
       "      <td>2021-12-02</td>\n",
       "      <td>2021-12-07</td>\n",
       "      <td>1</td>\n",
       "      <td>2021-11-28</td>\n",
       "      <td>848</td>\n",
       "      <td>3607</td>\n",
       "      <td>4</td>\n",
       "    </tr>\n",
       "  </tbody>\n",
       "</table>\n",
       "</div>"
      ],
      "text/plain": [
       "      value origin destination       gate depart_date return_date  \\\n",
       "3243    188    NYC         LAS     Wingie  2022-01-14  2022-01-27   \n",
       "3244    203    NYC         LAS   Trip.com  2022-01-07  2022-01-12   \n",
       "3245    206    NYC         LAS   Kiwi.com  2021-12-03  2021-12-04   \n",
       "3246    215    NYC         LAS  Aviakassa  2022-01-28  2022-01-31   \n",
       "3247    239    NYC         LAS   Kiwi.com  2021-12-02  2021-12-07   \n",
       "\n",
       "      number_of_changes   found_at  duration  distance  days_to_departure  \n",
       "3243                  1 2021-11-23       896      3607                 52  \n",
       "3244                  0 2021-11-27       646      3607                 41  \n",
       "3245                  1 2021-11-24      1283      3607                  9  \n",
       "3246                  2 2021-11-26      1821      3607                 63  \n",
       "3247                  1 2021-11-28       848      3607                  4  "
      ]
     },
     "execution_count": 17,
     "metadata": {},
     "output_type": "execute_result"
    }
   ],
   "source": [
    "df.head()"
   ]
  },
  {
   "cell_type": "markdown",
   "metadata": {
    "id": "fkkhGMKnTvzy"
   },
   "source": [
    "Sorting the dataframe based on days_to_departure so as to feed the Qlearning algorithm for time series analysis in descending order"
   ]
  },
  {
   "cell_type": "code",
   "execution_count": null,
   "metadata": {
    "execution": {
     "iopub.execute_input": "2021-12-05T19:26:40.347172Z",
     "iopub.status.busy": "2021-12-05T19:26:40.346899Z",
     "iopub.status.idle": "2021-12-05T19:26:40.350860Z",
     "shell.execute_reply": "2021-12-05T19:26:40.350424Z",
     "shell.execute_reply.started": "2021-12-05T19:26:40.347151Z"
    },
    "id": "kqYN1DhMyHEk"
   },
   "outputs": [],
   "source": [
    "df=df.sort_values('days_to_departure',ascending=False)"
   ]
  },
  {
   "cell_type": "code",
   "execution_count": null,
   "metadata": {
    "execution": {
     "iopub.execute_input": "2021-12-05T19:26:40.707412Z",
     "iopub.status.busy": "2021-12-05T19:26:40.707124Z",
     "iopub.status.idle": "2021-12-05T19:26:40.717624Z",
     "shell.execute_reply": "2021-12-05T19:26:40.717146Z",
     "shell.execute_reply.started": "2021-12-05T19:26:40.707390Z"
    },
    "id": "tHn-_NlnyOUB",
    "outputId": "03db6758-47c7-4141-a546-283f2e4ff9cb"
   },
   "outputs": [
    {
     "data": {
      "text/html": [
       "<div>\n",
       "<style scoped>\n",
       "    .dataframe tbody tr th:only-of-type {\n",
       "        vertical-align: middle;\n",
       "    }\n",
       "\n",
       "    .dataframe tbody tr th {\n",
       "        vertical-align: top;\n",
       "    }\n",
       "\n",
       "    .dataframe thead th {\n",
       "        text-align: right;\n",
       "    }\n",
       "</style>\n",
       "<table border=\"1\" class=\"dataframe\">\n",
       "  <thead>\n",
       "    <tr style=\"text-align: right;\">\n",
       "      <th></th>\n",
       "      <th>value</th>\n",
       "      <th>origin</th>\n",
       "      <th>destination</th>\n",
       "      <th>gate</th>\n",
       "      <th>depart_date</th>\n",
       "      <th>return_date</th>\n",
       "      <th>number_of_changes</th>\n",
       "      <th>found_at</th>\n",
       "      <th>duration</th>\n",
       "      <th>distance</th>\n",
       "      <th>days_to_departure</th>\n",
       "    </tr>\n",
       "  </thead>\n",
       "  <tbody>\n",
       "    <tr>\n",
       "      <th>22850</th>\n",
       "      <td>810</td>\n",
       "      <td>NYC</td>\n",
       "      <td>LAS</td>\n",
       "      <td>Kissandfly</td>\n",
       "      <td>2022-10-22</td>\n",
       "      <td>2022-10-29</td>\n",
       "      <td>2</td>\n",
       "      <td>2021-11-17</td>\n",
       "      <td>3930</td>\n",
       "      <td>3593</td>\n",
       "      <td>339</td>\n",
       "    </tr>\n",
       "    <tr>\n",
       "      <th>18955</th>\n",
       "      <td>811</td>\n",
       "      <td>NYC</td>\n",
       "      <td>LAS</td>\n",
       "      <td>Kissandfly</td>\n",
       "      <td>2022-10-22</td>\n",
       "      <td>2022-10-29</td>\n",
       "      <td>2</td>\n",
       "      <td>2021-11-17</td>\n",
       "      <td>3930</td>\n",
       "      <td>3593</td>\n",
       "      <td>339</td>\n",
       "    </tr>\n",
       "    <tr>\n",
       "      <th>15220</th>\n",
       "      <td>805</td>\n",
       "      <td>NYC</td>\n",
       "      <td>LAS</td>\n",
       "      <td>Kissandfly</td>\n",
       "      <td>2022-10-22</td>\n",
       "      <td>2022-10-29</td>\n",
       "      <td>2</td>\n",
       "      <td>2021-11-17</td>\n",
       "      <td>3930</td>\n",
       "      <td>3593</td>\n",
       "      <td>339</td>\n",
       "    </tr>\n",
       "    <tr>\n",
       "      <th>18898</th>\n",
       "      <td>419</td>\n",
       "      <td>NYC</td>\n",
       "      <td>LAS</td>\n",
       "      <td>Kiwi.com</td>\n",
       "      <td>2022-10-08</td>\n",
       "      <td>2022-10-10</td>\n",
       "      <td>1</td>\n",
       "      <td>2021-11-13</td>\n",
       "      <td>1450</td>\n",
       "      <td>3593</td>\n",
       "      <td>329</td>\n",
       "    </tr>\n",
       "    <tr>\n",
       "      <th>15188</th>\n",
       "      <td>479</td>\n",
       "      <td>NYC</td>\n",
       "      <td>LAS</td>\n",
       "      <td>Wingie</td>\n",
       "      <td>2022-10-08</td>\n",
       "      <td>2022-10-10</td>\n",
       "      <td>0</td>\n",
       "      <td>2021-11-20</td>\n",
       "      <td>623</td>\n",
       "      <td>3593</td>\n",
       "      <td>322</td>\n",
       "    </tr>\n",
       "  </tbody>\n",
       "</table>\n",
       "</div>"
      ],
      "text/plain": [
       "       value origin destination        gate depart_date return_date  \\\n",
       "22850    810    NYC         LAS  Kissandfly  2022-10-22  2022-10-29   \n",
       "18955    811    NYC         LAS  Kissandfly  2022-10-22  2022-10-29   \n",
       "15220    805    NYC         LAS  Kissandfly  2022-10-22  2022-10-29   \n",
       "18898    419    NYC         LAS    Kiwi.com  2022-10-08  2022-10-10   \n",
       "15188    479    NYC         LAS      Wingie  2022-10-08  2022-10-10   \n",
       "\n",
       "       number_of_changes   found_at  duration  distance  days_to_departure  \n",
       "22850                  2 2021-11-17      3930      3593                339  \n",
       "18955                  2 2021-11-17      3930      3593                339  \n",
       "15220                  2 2021-11-17      3930      3593                339  \n",
       "18898                  1 2021-11-13      1450      3593                329  \n",
       "15188                  0 2021-11-20       623      3593                322  "
      ]
     },
     "execution_count": 19,
     "metadata": {},
     "output_type": "execute_result"
    }
   ],
   "source": [
    "df.head()"
   ]
  },
  {
   "cell_type": "code",
   "execution_count": null,
   "metadata": {
    "colab": {
     "base_uri": "https://localhost:8080/"
    },
    "execution": {
     "iopub.execute_input": "2021-12-05T19:26:41.413451Z",
     "iopub.status.busy": "2021-12-05T19:26:41.413156Z",
     "iopub.status.idle": "2021-12-05T19:26:41.417310Z",
     "shell.execute_reply": "2021-12-05T19:26:41.416867Z",
     "shell.execute_reply.started": "2021-12-05T19:26:41.413430Z"
    },
    "id": "2QpAKFhO9Cof",
    "outputId": "05cdee20-052b-4326-bf7a-cd234468b4c7"
   },
   "outputs": [
    {
     "data": {
      "text/plain": [
       "584"
      ]
     },
     "execution_count": 21,
     "metadata": {},
     "output_type": "execute_result"
    }
   ],
   "source": [
    "len(df)"
   ]
  },
  {
   "cell_type": "markdown",
   "metadata": {
    "id": "inlmiPQzUCXp"
   },
   "source": [
    "Converting the dataframe to a list of tuples"
   ]
  },
  {
   "cell_type": "code",
   "execution_count": null,
   "metadata": {
    "execution": {
     "iopub.execute_input": "2021-12-05T19:26:41.706633Z",
     "iopub.status.busy": "2021-12-05T19:26:41.706317Z",
     "iopub.status.idle": "2021-12-05T19:26:41.714035Z",
     "shell.execute_reply": "2021-12-05T19:26:41.713561Z",
     "shell.execute_reply.started": "2021-12-05T19:26:41.706611Z"
    },
    "id": "A3GKfgueoj6R"
   },
   "outputs": [],
   "source": [
    "list_tuples=list(df.itertuples(name='Row', index=False))"
   ]
  },
  {
   "cell_type": "code",
   "execution_count": null,
   "metadata": {
    "execution": {
     "iopub.execute_input": "2021-12-05T19:26:42.426266Z",
     "iopub.status.busy": "2021-12-05T19:26:42.425986Z",
     "iopub.status.idle": "2021-12-05T19:26:42.430339Z",
     "shell.execute_reply": "2021-12-05T19:26:42.429846Z",
     "shell.execute_reply.started": "2021-12-05T19:26:42.426244Z"
    },
    "id": "EGxaDRs3AhpD"
   },
   "outputs": [],
   "source": [
    "def createEpsilonGreedyPolicy(Q, epsilon, num_actions):\n",
    "    \"\"\"\n",
    "    Creates an epsilon-greedy policy based\n",
    "    on a given Q-function and epsilon.\n",
    "       \n",
    "    Returns a function that takes the state\n",
    "    as an input and returns the probabilities\n",
    "    for each action in the form of a numpy array \n",
    "    of length of the action space(set of possible actions).\n",
    "    \"\"\"\n",
    "    def policyFunction(state):\n",
    "   \n",
    "        Action_probabilities = np.ones(num_actions,\n",
    "                dtype = float) * epsilon / num_actions\n",
    "                  \n",
    "        best_action = np.argmax(Q[state])\n",
    "#         print(best_action)\n",
    "        Action_probabilities[best_action] += (1.0 - epsilon)\n",
    "#         print(Action_probabilities)\n",
    "        return Action_probabilities\n",
    "   \n",
    "    return policyFunction"
   ]
  },
  {
   "cell_type": "code",
   "execution_count": null,
   "metadata": {
    "colab": {
     "base_uri": "https://localhost:8080/"
    },
    "execution": {
     "iopub.execute_input": "2021-12-05T19:26:43.163261Z",
     "iopub.status.busy": "2021-12-05T19:26:43.162976Z",
     "iopub.status.idle": "2021-12-05T19:26:43.166642Z",
     "shell.execute_reply": "2021-12-05T19:26:43.166161Z",
     "shell.execute_reply.started": "2021-12-05T19:26:43.163239Z"
    },
    "id": "w5I-gCwFo_uC",
    "outputId": "370a9b50-4026-406c-9a94-a0b278a9a0bd"
   },
   "outputs": [
    {
     "name": "stdout",
     "output_type": "stream",
     "text": [
      "Row(value=810, origin='NYC', destination='LAS', gate='Kissandfly', depart_date=Timestamp('2022-10-22 00:00:00'), return_date='2022-10-29', number_of_changes=2, found_at=Timestamp('2021-11-17 00:00:00'), duration=3930, distance=3593, days_to_departure=339)\n"
     ]
    }
   ],
   "source": [
    "print(list_tuples[0])"
   ]
  },
  {
   "cell_type": "markdown",
   "metadata": {
    "id": "5V2h0GAzUqbA"
   },
   "source": [
    "Creating the step function to associate rewards and next_State with each step\n",
    "\n",
    "reward=-300000 if flight is sold out\n",
    "reward=-value if action is buy that is 1\n",
    "reward is 0 if action is wait that is 0"
   ]
  },
  {
   "cell_type": "code",
   "execution_count": null,
   "metadata": {
    "execution": {
     "iopub.execute_input": "2021-12-05T19:26:43.594088Z",
     "iopub.status.busy": "2021-12-05T19:26:43.593809Z",
     "iopub.status.idle": "2021-12-05T19:26:43.598172Z",
     "shell.execute_reply": "2021-12-05T19:26:43.597719Z",
     "shell.execute_reply.started": "2021-12-05T19:26:43.594067Z"
    },
    "id": "HyNp1XXELQzf"
   },
   "outputs": [],
   "source": [
    "def stepx(action,ith_episode):\n",
    "  if(list_tuples[ith_episode].days_to_departure<=0) or ith_episode==len(list_tuples)-1:\n",
    "    reward=-300000\n",
    "    done=True\n",
    "    next_state=\"null\"\n",
    "  elif(action==0):\n",
    "    reward=0\n",
    "    done=False\n",
    "    next_state=list_tuples[ith_episode+1]\n",
    "  elif(action==1):\n",
    "    reward=-(list_tuples[ith_episode].value)\n",
    "    done=False\n",
    "    next_state=list_tuples[ith_episode+1]\n",
    "  return next_state,reward,done,\"null\"\n",
    "\n"
   ]
  },
  {
   "cell_type": "code",
   "execution_count": null,
   "metadata": {
    "execution": {
     "iopub.execute_input": "2021-12-05T19:26:44.089380Z",
     "iopub.status.busy": "2021-12-05T19:26:44.089091Z",
     "iopub.status.idle": "2021-12-05T19:26:44.092002Z",
     "shell.execute_reply": "2021-12-05T19:26:44.091570Z",
     "shell.execute_reply.started": "2021-12-05T19:26:44.089358Z"
    },
    "id": "HVGmo4e-VMLD"
   },
   "outputs": [],
   "source": [
    "from collections import defaultdict"
   ]
  },
  {
   "cell_type": "code",
   "execution_count": null,
   "metadata": {
    "execution": {
     "iopub.execute_input": "2021-12-05T19:26:44.640504Z",
     "iopub.status.busy": "2021-12-05T19:26:44.640221Z",
     "iopub.status.idle": "2021-12-05T19:26:44.643193Z",
     "shell.execute_reply": "2021-12-05T19:26:44.642742Z",
     "shell.execute_reply.started": "2021-12-05T19:26:44.640482Z"
    },
    "id": "wiuLNDgmYYgu"
   },
   "outputs": [],
   "source": [
    "from collections import namedtuple"
   ]
  },
  {
   "cell_type": "code",
   "execution_count": null,
   "metadata": {
    "execution": {
     "iopub.execute_input": "2021-12-05T19:26:45.227450Z",
     "iopub.status.busy": "2021-12-05T19:26:45.227148Z",
     "iopub.status.idle": "2021-12-05T19:26:45.409101Z",
     "shell.execute_reply": "2021-12-05T19:26:45.408614Z",
     "shell.execute_reply.started": "2021-12-05T19:26:45.227428Z"
    },
    "id": "rd1fVp0zZgUN"
   },
   "outputs": [],
   "source": []
  },
  {
   "cell_type": "markdown",
   "metadata": {
    "id": "AMVso0cWVCW2"
   },
   "source": [
    "Creating the Qlearning algorithm to find the Qvalues for each state, here the discount factor is taken as 1 to maximize future discounts, alpha is the learning rate and epsilon is the input given to the epsilon greedy policy.\n",
    "\n"
   ]
  },
  {
   "cell_type": "code",
   "execution_count": null,
   "metadata": {
    "execution": {
     "iopub.execute_input": "2021-12-05T19:30:00.422674Z",
     "iopub.status.busy": "2021-12-05T19:30:00.422369Z",
     "iopub.status.idle": "2021-12-05T19:30:00.429589Z",
     "shell.execute_reply": "2021-12-05T19:30:00.429031Z",
     "shell.execute_reply.started": "2021-12-05T19:30:00.422651Z"
    },
    "id": "CA1XYrKEBAA5"
   },
   "outputs": [],
   "source": [
    "def qLearning(df, num_episodes, discount_factor = 1.0,alpha = 0.6, epsilon = 0.1):\n",
    "    \"\"\"\n",
    "    Q-Learning algorithm: Off-policy TD control.\n",
    "    Finds the optimal greedy policy while improving\n",
    "    following an epsilon-greedy policy\"\"\"\n",
    "       \n",
    "    # A nested dictionary that maps\n",
    "    # state -> (action -> action-value).\n",
    "    Q = defaultdict(lambda: np.zeros(2)))\n",
    "\n",
    "    # # Keeps track of useful statistics\n",
    "    EpisodeStats = namedtuple(\"Stats\",[\"episode_lengths\", \"episode_rewards\"])\n",
    "    stats = EpisodeStats(\n",
    "        episode_lengths = np.zeros(num_episodes),\n",
    "        episode_rewards = np.zeros(num_episodes))    \n",
    "       \n",
    "    # Create an epsilon greedy policy function\n",
    "    # appropriately for environment action space\n",
    "    policy = createEpsilonGreedyPolicy(Q, epsilon, 2)\n",
    "       \n",
    "    for ith_episode in range(num_episodes):\n",
    "           \n",
    "        state = list_tuples[ith_episode]\n",
    "           \n",
    "        for t in range(1,10000):\n",
    "               \n",
    "            # get probabilities of all actions from current state\n",
    "            action_probabilities = policy(state)\n",
    "   \n",
    "            # choose action according to \n",
    "            # the probability distribution\n",
    "            action = np.random.choice(np.arange(len(action_probabilities)),p = action_probabilities)\n",
    "   \n",
    "            # take action and get reward, transit to next state\n",
    "            next_state, reward, done, _ = stepx(action,ith_episode)\n",
    "   \n",
    "            # Update statistics\n",
    "            stats.episode_rewards[ith_episode] += reward\n",
    "            stats.episode_lengths[ith_episode] = t\n",
    "               \n",
    "            # TD Update\n",
    "            best_next_action = np.argmax(Q[next_state])    \n",
    "            td_target = reward + discount_factor * Q[next_state][best_next_action]\n",
    "            td_delta = td_target - Q[state][action]\n",
    "            Q[state][action] += alpha * td_delta\n",
    "   \n",
    "            # done is True if episode terminated   \n",
    "            if done:\n",
    "                break\n",
    "                   \n",
    "            state = next_state\n",
    "            # print(Q)\n",
    "       \n",
    "    return Q, stats"
   ]
  },
  {
   "cell_type": "markdown",
   "metadata": {
    "id": "9l-KW3LAVBRu"
   },
   "source": [
    "Calling qlearning to get the Qvalues and stats"
   ]
  },
  {
   "cell_type": "code",
   "execution_count": null,
   "metadata": {
    "colab": {
     "background_save": true
    },
    "execution": {
     "iopub.execute_input": "2021-12-05T19:30:02.496246Z",
     "iopub.status.busy": "2021-12-05T19:30:02.495947Z",
     "iopub.status.idle": "2021-12-05T19:35:27.275185Z",
     "shell.execute_reply": "2021-12-05T19:35:27.274653Z",
     "shell.execute_reply.started": "2021-12-05T19:30:02.496222Z"
    },
    "id": "7nenhOOBU9KZ"
   },
   "outputs": [],
   "source": [
    "Q,stats = qLearning(list_tuples, len(list_tuples))"
   ]
  },
  {
   "cell_type": "code",
   "execution_count": null,
   "metadata": {
    "colab": {
     "base_uri": "https://localhost:8080/"
    },
    "execution": {
     "iopub.execute_input": "2021-12-05T19:35:27.279705Z",
     "iopub.status.busy": "2021-12-05T19:35:27.279438Z",
     "iopub.status.idle": "2021-12-05T19:35:27.282497Z",
     "shell.execute_reply": "2021-12-05T19:35:27.282030Z",
     "shell.execute_reply.started": "2021-12-05T19:35:27.279686Z"
    },
    "id": "VSK13dnEVGzR",
    "outputId": "659ad041-9f80-46a1-a983-deed06fde799"
   },
   "outputs": [
    {
     "name": "stdout",
     "output_type": "stream",
     "text": [
      "<class 'collections.defaultdict'>\n"
     ]
    }
   ],
   "source": [
    "print(type(Q))"
   ]
  },
  {
   "cell_type": "code",
   "execution_count": null,
   "metadata": {
    "colab": {
     "base_uri": "https://localhost:8080/"
    },
    "execution": {
     "iopub.execute_input": "2021-12-05T19:35:27.283402Z",
     "iopub.status.busy": "2021-12-05T19:35:27.283099Z",
     "iopub.status.idle": "2021-12-05T19:35:27.287060Z",
     "shell.execute_reply": "2021-12-05T19:35:27.286623Z",
     "shell.execute_reply.started": "2021-12-05T19:35:27.283385Z"
    },
    "id": "glmHB7KX7OZD",
    "outputId": "7842e495-044e-4ab1-bc5f-70fa95c6fe71"
   },
   "outputs": [
    {
     "name": "stdout",
     "output_type": "stream",
     "text": [
      "584\n"
     ]
    }
   ],
   "source": [
    "print(len(Q[1]))"
   ]
  },
  {
   "cell_type": "markdown",
   "metadata": {
    "id": "_P0Dr0CgW4-B"
   },
   "source": [
    "Writing the Q values to a csv to be used later"
   ]
  },
  {
   "cell_type": "code",
   "execution_count": null,
   "metadata": {
    "execution": {
     "iopub.execute_input": "2021-12-05T19:35:27.299157Z",
     "iopub.status.busy": "2021-12-05T19:35:27.299029Z",
     "iopub.status.idle": "2021-12-05T19:35:29.177053Z",
     "shell.execute_reply": "2021-12-05T19:35:29.176558Z",
     "shell.execute_reply.started": "2021-12-05T19:35:27.299143Z"
    },
    "id": "OI6bUGC-RJOa"
   },
   "outputs": [],
   "source": [
    "import csv\n",
    "w = csv.writer(open(\"output4.csv\", \"w\"))\n",
    "\n",
    "# loop over dictionary keys and values\n",
    "for key, val in Q.items():\n",
    "    # write every key and value to file\n",
    "    w.writerow([key, val])"
   ]
  }
 ],
 "metadata": {
  "accelerator": "GPU",
  "colab": {
   "collapsed_sections": [],
   "name": "Qlearning (3) (1) (1).ipynb",
   "provenance": []
  },
  "kernelspec": {
   "display_name": "Python 3 (ipykernel)",
   "language": "python",
   "name": "python3"
  },
  "language_info": {
   "codemirror_mode": {
    "name": "ipython",
    "version": 3
   },
   "file_extension": ".py",
   "mimetype": "text/x-python",
   "name": "python",
   "nbconvert_exporter": "python",
   "pygments_lexer": "ipython3",
   "version": "3.9.7"
  }
 },
 "nbformat": 4,
 "nbformat_minor": 1
}
